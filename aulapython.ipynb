{
  "nbformat": 4,
  "nbformat_minor": 0,
  "metadata": {
    "colab": {
      "provenance": [],
      "authorship_tag": "ABX9TyOqL6x5mvX7dyvdNwgdrlfY",
      "include_colab_link": true
    },
    "kernelspec": {
      "name": "python3",
      "display_name": "Python 3"
    },
    "language_info": {
      "name": "python"
    }
  },
  "cells": [
    {
      "cell_type": "markdown",
      "metadata": {
        "id": "view-in-github",
        "colab_type": "text"
      },
      "source": [
        "<a href=\"https://colab.research.google.com/github/analuisak/Python/blob/main/aulapython.ipynb\" target=\"_parent\"><img src=\"https://colab.research.google.com/assets/colab-badge.svg\" alt=\"Open In Colab\"/></a>"
      ]
    },
    {
      "cell_type": "code",
      "source": [],
      "metadata": {
        "id": "ct_5GXtwoTWJ"
      },
      "execution_count": null,
      "outputs": []
    },
    {
      "cell_type": "markdown",
      "source": [
        "#**aula 1**  🦇 ☪ 🫀"
      ],
      "metadata": {
        "id": "BpT-8okonw4r"
      }
    },
    {
      "cell_type": "code",
      "source": [
        "print(\"I competição de programação de Start\")\n",
        "ano = \"IX\"\n",
        "print(print(f\"{ano} competição de programação da Start\"))\n"
      ],
      "metadata": {
        "colab": {
          "base_uri": "https://localhost:8080/"
        },
        "id": "0GE-EV30pcxt",
        "outputId": "0eba617f-8bc9-4614-a98f-d0a33e520556"
      },
      "execution_count": null,
      "outputs": [
        {
          "output_type": "stream",
          "name": "stdout",
          "text": [
            "IX competição de programação da Start\n",
            "None\n"
          ]
        }
      ]
    },
    {
      "cell_type": "markdown",
      "source": [
        "#**aula 2** 💓 🌟 🧁"
      ],
      "metadata": {
        "id": "v9VlgMGfhGYI"
      }
    },
    {
      "cell_type": "code",
      "source": [
        "livro_ficcao = 8\n",
        "livro_n_ficcao = 10\n",
        "livro_infantil = 6\n",
        "pontos_rodrigo = livro_ficcao + livro_n_ficcao + livro_infantil\n",
        "pontos_ana = 2 * livro_ficcao + 5 * livro_infantil\n",
        "pontos_totais = pontos_rodrigo + pontos_ana\n",
        "print(f\"Os pontos totais do Rodrigo são {pontos_rodrigo}\")\n",
        "print(f\"Os pontos totais da Ana são {pontos_ana}\")\n",
        "print(f\"Os pontos totais do Rodrigo e da Ana são {pontos_totais}\")"
      ],
      "metadata": {
        "colab": {
          "base_uri": "https://localhost:8080/"
        },
        "id": "qwGI8MJ2oYCJ",
        "outputId": "cad321e6-17ec-4ffa-c58e-193f553b7222"
      },
      "execution_count": 4,
      "outputs": [
        {
          "output_type": "stream",
          "name": "stdout",
          "text": [
            "Os pontos totais do Rodrigo são 24\n",
            "Os pontos totais da Ana são 46\n",
            "Os pontos totais do Rodrigo e da Ana são 70\n"
          ]
        }
      ]
    }
  ]
}