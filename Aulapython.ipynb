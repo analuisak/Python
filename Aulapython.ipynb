{
  "nbformat": 4,
  "nbformat_minor": 0,
  "metadata": {
    "colab": {
      "provenance": [],
      "authorship_tag": "ABX9TyMPjkiE2tba4uKoJm7gmflY",
      "include_colab_link": true
    },
    "kernelspec": {
      "name": "python3",
      "display_name": "Python 3"
    },
    "language_info": {
      "name": "python"
    }
  },
  "cells": [
    {
      "cell_type": "markdown",
      "metadata": {
        "id": "view-in-github",
        "colab_type": "text"
      },
      "source": [
        "<a href=\"https://colab.research.google.com/github/analuisak/Python/blob/main/Aulapython.ipynb\" target=\"_parent\"><img src=\"https://colab.research.google.com/assets/colab-badge.svg\" alt=\"Open In Colab\"/></a>"
      ]
    },
    {
      "cell_type": "code",
      "source": [],
      "metadata": {
        "id": "ct_5GXtwoTWJ"
      },
      "execution_count": null,
      "outputs": []
    },
    {
      "cell_type": "markdown",
      "source": [
        "#**aula 1**  🦇 ☪ 🫀"
      ],
      "metadata": {
        "id": "BpT-8okonw4r"
      }
    },
    {
      "cell_type": "code",
      "source": [
        "ano = \"IX\"\n",
        "print(print(f\"{ano} competição de programação da Start\"))"
      ],
      "metadata": {
        "colab": {
          "base_uri": "https://localhost:8080/"
        },
        "id": "0GE-EV30pcxt",
        "outputId": "0eba617f-8bc9-4614-a98f-d0a33e520556"
      },
      "execution_count": 3,
      "outputs": [
        {
          "output_type": "stream",
          "name": "stdout",
          "text": [
            "IX competição de programação da Start\n",
            "None\n"
          ]
        }
      ]
    }
  ]
}